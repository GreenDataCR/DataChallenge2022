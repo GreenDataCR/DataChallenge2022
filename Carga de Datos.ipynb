{
 "cells": [
  {
   "cell_type": "code",
   "execution_count": 1,
   "id": "9b531847",
   "metadata": {},
   "outputs": [
    {
     "name": "stdout",
     "output_type": "stream",
     "text": [
      "Requirement already satisfied: snowflake-connector-python in c:\\users\\fergo\\miniconda3\\lib\\site-packages (2.7.6)Note: you may need to restart the kernel to use updated packages.\n",
      "Requirement already satisfied: charset-normalizer~=2.0.0 in c:\\users\\fergo\\miniconda3\\lib\\site-packages (from snowflake-connector-python) (2.0.4)\n",
      "Requirement already satisfied: oscrypto<2.0.0 in c:\\users\\fergo\\miniconda3\\lib\\site-packages (from snowflake-connector-python) (1.3.0)\n",
      "Requirement already satisfied: pyOpenSSL<22.0.0,>=16.2.0 in c:\\users\\fergo\\miniconda3\\lib\\site-packages (from snowflake-connector-python) (21.0.0)\n",
      "Requirement already satisfied: setuptools>34.0.0 in c:\\users\\fergo\\miniconda3\\lib\\site-packages (from snowflake-connector-python) (58.0.4)\n",
      "Requirement already satisfied: pytz in c:\\users\\fergo\\miniconda3\\lib\\site-packages (from snowflake-connector-python) (2022.1)\n",
      "Requirement already satisfied: pycryptodomex!=3.5.0,<4.0.0,>=3.2 in c:\\users\\fergo\\miniconda3\\lib\\site-packages (from snowflake-connector-python) (3.14.1)\n",
      "Requirement already satisfied: cffi<2.0.0,>=1.9 in c:\\users\\fergo\\miniconda3\\lib\\site-packages (from snowflake-connector-python) (1.15.0)\n",
      "Requirement already satisfied: idna<4,>=2.5 in c:\\users\\fergo\\miniconda3\\lib\\site-packages (from snowflake-connector-python) (3.3)\n",
      "Requirement already satisfied: asn1crypto<2.0.0,>0.24.0 in c:\\users\\fergo\\miniconda3\\lib\\site-packages (from snowflake-connector-python) (1.5.1)\n",
      "Requirement already satisfied: certifi>=2017.4.17 in c:\\users\\fergo\\miniconda3\\lib\\site-packages (from snowflake-connector-python) (2021.10.8)\n",
      "Requirement already satisfied: cryptography<37.0.0,>=3.1.0 in c:\\users\\fergo\\miniconda3\\lib\\site-packages (from snowflake-connector-python) (36.0.0)\n",
      "Requirement already satisfied: requests<3.0.0 in c:\\users\\fergo\\miniconda3\\lib\\site-packages (from snowflake-connector-python) (2.27.1)\n",
      "Requirement already satisfied: pyjwt<3.0.0 in c:\\users\\fergo\\miniconda3\\lib\\site-packages (from snowflake-connector-python) (2.3.0)\n",
      "Requirement already satisfied: pycparser in c:\\users\\fergo\\miniconda3\\lib\\site-packages (from cffi<2.0.0,>=1.9->snowflake-connector-python) (2.21)\n",
      "Requirement already satisfied: six>=1.5.2 in c:\\users\\fergo\\miniconda3\\lib\\site-packages (from pyOpenSSL<22.0.0,>=16.2.0->snowflake-connector-python) (1.16.0)\n",
      "Requirement already satisfied: urllib3<1.27,>=1.21.1 in c:\\users\\fergo\\miniconda3\\lib\\site-packages (from requests<3.0.0->snowflake-connector-python) (1.26.7)\n",
      "\n"
     ]
    }
   ],
   "source": [
    "pip install --upgrade snowflake-connector-python  "
   ]
  },
  {
   "cell_type": "code",
   "execution_count": 6,
   "id": "50e4742c",
   "metadata": {},
   "outputs": [],
   "source": [
    "import snowflake.connector"
   ]
  },
  {
   "cell_type": "code",
   "execution_count": 7,
   "id": "3312e491",
   "metadata": {},
   "outputs": [],
   "source": [
    "con = snowflake.connector.connect(\n",
    "    user='greendatacr',\n",
    "    password='*Inivfer22',\n",
    "    account='CT59695.us-central1.gcp'\n",
    ")"
   ]
  },
  {
   "cell_type": "code",
   "execution_count": null,
   "id": "22090b78",
   "metadata": {},
   "outputs": [],
   "source": [
    "con.cursor().execute(\"CREATE WAREHOUSE IF NOT EXISTS CLIMA\")\n",
    "con.cursor().execute(\"CREATE DATABASE IF NOT EXISTS CHA2022\")\n",
    "con.cursor().execute(\"CREATE SCHEMA IF NOT EXISTS PUBLIC\")\n",
    "con.cursor().execute(\"CREATE STAGE IF NOT EXISTS DATOSEXT\")"
   ]
  },
  {
   "cell_type": "code",
   "execution_count": 12,
   "id": "f1419111",
   "metadata": {},
   "outputs": [
    {
     "data": {
      "text/plain": [
       "<snowflake.connector.cursor.SnowflakeCursor at 0x1ecaac19700>"
      ]
     },
     "execution_count": 12,
     "metadata": {},
     "output_type": "execute_result"
    }
   ],
   "source": [
    "con.cursor().execute(\"USE WAREHOUSE CLIMA\")\n",
    "con.cursor().execute(\"USE DATABASE CHA2022\")\n",
    "con.cursor().execute(\"USE SCHEMA PUBLIC\")"
   ]
  },
  {
   "cell_type": "code",
   "execution_count": 27,
   "id": "69166aed",
   "metadata": {},
   "outputs": [
    {
     "data": {
      "text/plain": [
       "<snowflake.connector.cursor.SnowflakeCursor at 0x26d1f790bb0>"
      ]
     },
     "execution_count": 27,
     "metadata": {},
     "output_type": "execute_result"
    }
   ],
   "source": [
    "con.cursor().execute(\"Put file://C:\\Data_Challenge\\Climate_data_trends\\Energytrends.csv @DATOSEXT\")"
   ]
  },
  {
   "cell_type": "code",
   "execution_count": 36,
   "id": "32f283a1",
   "metadata": {},
   "outputs": [
    {
     "data": {
      "text/plain": [
       "<snowflake.connector.cursor.SnowflakeCursor at 0x26d1f744fa0>"
      ]
     },
     "execution_count": 36,
     "metadata": {},
     "output_type": "execute_result"
    }
   ],
   "source": [
    "con.cursor().execute(\"Put file://C:\\Data_Challenge\\Climate_data_trends\\ELECGEN_2007_2019_Electricity_Gen_by_country_Gwh.json @DATOSEXT\")"
   ]
  },
  {
   "cell_type": "code",
   "execution_count": 41,
   "id": "97145328",
   "metadata": {},
   "outputs": [
    {
     "data": {
      "text/plain": [
       "<snowflake.connector.cursor.SnowflakeCursor at 0x26d1f7917f0>"
      ]
     },
     "execution_count": 41,
     "metadata": {},
     "output_type": "execute_result"
    }
   ],
   "source": [
    "con.cursor().execute(\"CREATE STAGE IF NOT EXISTS EPI\")"
   ]
  },
  {
   "cell_type": "code",
   "execution_count": 59,
   "id": "89e5db5f",
   "metadata": {},
   "outputs": [
    {
     "data": {
      "text/plain": [
       "<snowflake.connector.cursor.SnowflakeCursor at 0x26d1fcc04f0>"
      ]
     },
     "execution_count": 59,
     "metadata": {},
     "output_type": "execute_result"
    }
   ],
   "source": [
    "con.cursor().execute(\"Put file://C:\\Data_Challenge\\EPI_Environmental_Performance_Index\\epi_indicatortla.csv @EPI\")"
   ]
  },
  {
   "cell_type": "code",
   "execution_count": 60,
   "id": "da09fc30",
   "metadata": {},
   "outputs": [
    {
     "data": {
      "text/plain": [
       "<snowflake.connector.cursor.SnowflakeCursor at 0x26d1fd1fb20>"
      ]
     },
     "execution_count": 60,
     "metadata": {},
     "output_type": "execute_result"
    }
   ],
   "source": [
    "con.cursor().execute(\"Put file://C:\\Data_Challenge\\EPI_Environmental_Performance_Index\\epi_results.csv @EPI\")"
   ]
  },
  {
   "cell_type": "code",
   "execution_count": 61,
   "id": "837e5e56",
   "metadata": {},
   "outputs": [
    {
     "data": {
      "text/plain": [
       "<snowflake.connector.cursor.SnowflakeCursor at 0x26d1fd2df40>"
      ]
     },
     "execution_count": 61,
     "metadata": {},
     "output_type": "execute_result"
    }
   ],
   "source": [
    "con.cursor().execute(\"Put file://C:\\Data_Challenge\\EPI_Environmental_Performance_Index\\epi_variableattributes.csv @EPI\")"
   ]
  },
  {
   "cell_type": "code",
   "execution_count": 42,
   "id": "4241de1e",
   "metadata": {},
   "outputs": [
    {
     "data": {
      "text/plain": [
       "<snowflake.connector.cursor.SnowflakeCursor at 0x26d1f6ddc10>"
      ]
     },
     "execution_count": 42,
     "metadata": {},
     "output_type": "execute_result"
    }
   ],
   "source": [
    "con.cursor().execute(\"CREATE STAGE IF NOT EXISTS GPP\")"
   ]
  },
  {
   "cell_type": "code",
   "execution_count": 13,
   "id": "73a2cf07",
   "metadata": {},
   "outputs": [
    {
     "data": {
      "text/plain": [
       "<snowflake.connector.cursor.SnowflakeCursor at 0x1ecabf6d490>"
      ]
     },
     "execution_count": 13,
     "metadata": {},
     "output_type": "execute_result"
    }
   ],
   "source": [
    "con.cursor().execute(\"Put file://C:\\Data_Challenge\\global_power_plant_database_v_1_3\\global_power_plant_database.csv @GPP\")"
   ]
  },
  {
   "cell_type": "code",
   "execution_count": 47,
   "id": "8fbd5e31",
   "metadata": {},
   "outputs": [
    {
     "data": {
      "text/plain": [
       "<snowflake.connector.cursor.SnowflakeCursor at 0x26d1f790370>"
      ]
     },
     "execution_count": 47,
     "metadata": {},
     "output_type": "execute_result"
    }
   ],
   "source": [
    "con.cursor().execute(\"CREATE STAGE IF NOT EXISTS SPCR\")"
   ]
  },
  {
   "cell_type": "code",
   "execution_count": 19,
   "id": "ffd0282c",
   "metadata": {},
   "outputs": [
    {
     "data": {
      "text/plain": [
       "<snowflake.connector.cursor.SnowflakeCursor at 0x1ecac220d00>"
      ]
     },
     "execution_count": 19,
     "metadata": {},
     "output_type": "execute_result"
    }
   ],
   "source": [
    "con.cursor().execute(\"Put file://C:\\Data_Challenge\\solar_potentoal_countryranking_2020_data\\Country_indicators.csv @SPCR\")"
   ]
  },
  {
   "cell_type": "code",
   "execution_count": 50,
   "id": "582340e9",
   "metadata": {},
   "outputs": [
    {
     "data": {
      "text/plain": [
       "<snowflake.connector.cursor.SnowflakeCursor at 0x26d1fcca6a0>"
      ]
     },
     "execution_count": 50,
     "metadata": {},
     "output_type": "execute_result"
    }
   ],
   "source": [
    "con.cursor().execute(\"Put file://C:\\Data_Challenge\\solar_potentoal_countryranking_2020_data\\Data_sources.csv @SPCR\")"
   ]
  },
  {
   "cell_type": "code",
   "execution_count": 51,
   "id": "b0db5c0f",
   "metadata": {},
   "outputs": [
    {
     "data": {
      "text/plain": [
       "<snowflake.connector.cursor.SnowflakeCursor at 0x26d1f799e50>"
      ]
     },
     "execution_count": 51,
     "metadata": {},
     "output_type": "execute_result"
    }
   ],
   "source": [
    "con.cursor().execute(\"Put file://C:\\Data_Challenge\\solar_potentoal_countryranking_2020_data\\Glossary.csv @SPCR\")"
   ]
  },
  {
   "cell_type": "code",
   "execution_count": 52,
   "id": "5e2d0571",
   "metadata": {},
   "outputs": [
    {
     "data": {
      "text/plain": [
       "<snowflake.connector.cursor.SnowflakeCursor at 0x26d1f7909d0>"
      ]
     },
     "execution_count": 52,
     "metadata": {},
     "output_type": "execute_result"
    }
   ],
   "source": [
    "con.cursor().execute(\"Put file://C:\\Data_Challenge\\solar_potentoal_countryranking_2020_data\\Monthly_data.csv @SPCR\")"
   ]
  },
  {
   "cell_type": "code",
   "execution_count": 53,
   "id": "8b936266",
   "metadata": {},
   "outputs": [
    {
     "data": {
      "text/plain": [
       "<snowflake.connector.cursor.SnowflakeCursor at 0x26d1fccbb80>"
      ]
     },
     "execution_count": 53,
     "metadata": {},
     "output_type": "execute_result"
    }
   ],
   "source": [
    "con.cursor().execute(\"Put file://C:\\Data_Challenge\\solar_potentoal_countryranking_2020_data\\Summary_statistics.csv @SPCR\")"
   ]
  },
  {
   "cell_type": "code",
   "execution_count": 56,
   "id": "ad30b34f",
   "metadata": {},
   "outputs": [
    {
     "data": {
      "text/plain": [
       "<snowflake.connector.cursor.SnowflakeCursor at 0x26d1fccaee0>"
      ]
     },
     "execution_count": 56,
     "metadata": {},
     "output_type": "execute_result"
    }
   ],
   "source": [
    "con.cursor().execute(\"CREATE STAGE IF NOT EXISTS WB\")"
   ]
  },
  {
   "cell_type": "code",
   "execution_count": 57,
   "id": "22cbd3a3",
   "metadata": {},
   "outputs": [
    {
     "data": {
      "text/plain": [
       "<snowflake.connector.cursor.SnowflakeCursor at 0x26d1fcc9a30>"
      ]
     },
     "execution_count": 57,
     "metadata": {},
     "output_type": "execute_result"
    }
   ],
   "source": [
    "con.cursor().execute(\"Put file://C:\\Data_Challenge\\WORLD_BANK_Sustainable_Energy_For_All\\SE4ALLData.csv @WB\")"
   ]
  },
  {
   "cell_type": "code",
   "execution_count": 58,
   "id": "48abb4fd",
   "metadata": {},
   "outputs": [
    {
     "data": {
      "text/plain": [
       "<snowflake.connector.cursor.SnowflakeCursor at 0x26d1fcd3820>"
      ]
     },
     "execution_count": 58,
     "metadata": {},
     "output_type": "execute_result"
    }
   ],
   "source": [
    "con.cursor().execute(\"Put file://C:\\Data_Challenge\\WORLD_BANK_Sustainable_Energy_For_All\\SE4ALLSeries.csv @WB\")"
   ]
  },
  {
   "cell_type": "code",
   "execution_count": null,
   "id": "4aa27067",
   "metadata": {},
   "outputs": [],
   "source": [
    "con.cursor().execute(\"CREATE STAGE IF NOT EXISTS EIA\")"
   ]
  },
  {
   "cell_type": "code",
   "execution_count": null,
   "id": "b941a86b",
   "metadata": {},
   "outputs": [],
   "source": []
  }
 ],
 "metadata": {
  "kernelspec": {
   "display_name": "Python 3 (ipykernel)",
   "language": "python",
   "name": "python3"
  },
  "language_info": {
   "codemirror_mode": {
    "name": "ipython",
    "version": 3
   },
   "file_extension": ".py",
   "mimetype": "text/x-python",
   "name": "python",
   "nbconvert_exporter": "python",
   "pygments_lexer": "ipython3",
   "version": "3.9.7"
  }
 },
 "nbformat": 4,
 "nbformat_minor": 5
}
