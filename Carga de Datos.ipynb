{
 "cells": [
  {
   "cell_type": "code",
   "execution_count": 1,
   "id": "9b531847",
   "metadata": {},
   "outputs": [
    {
     "name": "stdout",
     "output_type": "stream",
     "text": [
      "Requirement already satisfied: snowflake-connector-python in c:\\users\\fergo\\miniconda3\\lib\\site-packages (2.7.6)\n",
      "Requirement already satisfied: oscrypto<2.0.0 in c:\\users\\fergo\\miniconda3\\lib\\site-packages (from snowflake-connector-python) (1.3.0)\n",
      "Requirement already satisfied: cffi<2.0.0,>=1.9 in c:\\users\\fergo\\miniconda3\\lib\\site-packages (from snowflake-connector-python) (1.15.0)\n",
      "Requirement already satisfied: pyOpenSSL<22.0.0,>=16.2.0 in c:\\users\\fergo\\miniconda3\\lib\\site-packages (from snowflake-connector-python) (21.0.0)\n",
      "Requirement already satisfied: idna<4,>=2.5 in c:\\users\\fergo\\miniconda3\\lib\\site-packages (from snowflake-connector-python) (3.3)\n",
      "Requirement already satisfied: pytz in c:\\users\\fergo\\miniconda3\\lib\\site-packages (from snowflake-connector-python) (2022.1)\n",
      "Requirement already satisfied: asn1crypto<2.0.0,>0.24.0 in c:\\users\\fergo\\miniconda3\\lib\\site-packages (from snowflake-connector-python) (1.5.1)\n",
      "Requirement already satisfied: pyjwt<3.0.0 in c:\\users\\fergo\\miniconda3\\lib\\site-packages (from snowflake-connector-python) (2.3.0)\n",
      "Requirement already satisfied: pycryptodomex!=3.5.0,<4.0.0,>=3.2 in c:\\users\\fergo\\miniconda3\\lib\\site-packages (from snowflake-connector-python) (3.14.1)\n",
      "Requirement already satisfied: setuptools>34.0.0 in c:\\users\\fergo\\miniconda3\\lib\\site-packages (from snowflake-connector-python) (58.0.4)\n",
      "Requirement already satisfied: cryptography<37.0.0,>=3.1.0 in c:\\users\\fergo\\miniconda3\\lib\\site-packages (from snowflake-connector-python) (36.0.0)\n",
      "Requirement already satisfied: requests<3.0.0 in c:\\users\\fergo\\miniconda3\\lib\\site-packages (from snowflake-connector-python) (2.27.1)\n",
      "Requirement already satisfied: charset-normalizer~=2.0.0 in c:\\users\\fergo\\miniconda3\\lib\\site-packages (from snowflake-connector-python) (2.0.4)\n",
      "Requirement already satisfied: certifi>=2017.4.17 in c:\\users\\fergo\\miniconda3\\lib\\site-packages (from snowflake-connector-python) (2021.10.8)\n",
      "Requirement already satisfied: pycparser in c:\\users\\fergo\\miniconda3\\lib\\site-packages (from cffi<2.0.0,>=1.9->snowflake-connector-python) (2.21)\n",
      "Requirement already satisfied: six>=1.5.2 in c:\\users\\fergo\\miniconda3\\lib\\site-packages (from pyOpenSSL<22.0.0,>=16.2.0->snowflake-connector-python) (1.16.0)\n",
      "Requirement already satisfied: urllib3<1.27,>=1.21.1 in c:\\users\\fergo\\miniconda3\\lib\\site-packages (from requests<3.0.0->snowflake-connector-python) (1.26.7)\n",
      "Note: you may need to restart the kernel to use updated packages.\n"
     ]
    }
   ],
   "source": [
    "pip install --upgrade snowflake-connector-python  "
   ]
  },
  {
   "cell_type": "code",
   "execution_count": 2,
   "id": "50e4742c",
   "metadata": {},
   "outputs": [],
   "source": [
    "import snowflake.connector"
   ]
  },
  {
   "cell_type": "code",
   "execution_count": 3,
   "id": "3312e491",
   "metadata": {},
   "outputs": [],
   "source": [
    "con = snowflake.connector.connect(\n",
    "    user='greendatacr',\n",
    "    password='*Inivfer22',\n",
    "    account='CT59695.us-central1.gcp'\n",
    ")"
   ]
  },
  {
   "cell_type": "code",
   "execution_count": 1,
   "id": "22090b78",
   "metadata": {
    "scrolled": true
   },
   "outputs": [],
   "source": [
    "#con.cursor().execute(\"CREATE WAREHOUSE IF NOT EXISTS CLIMA\")\n",
    "#con.cursor().execute(\"CREATE DATABASE IF NOT EXISTS CHA2022\")\n",
    "#con.cursor().execute(\"CREATE STAGE IF NOT EXISTS DATOSEXT\")"
   ]
  },
  {
   "cell_type": "code",
   "execution_count": 4,
   "id": "f1419111",
   "metadata": {},
   "outputs": [
    {
     "data": {
      "text/plain": [
       "<snowflake.connector.cursor.SnowflakeCursor at 0x1c6b81f4670>"
      ]
     },
     "execution_count": 4,
     "metadata": {},
     "output_type": "execute_result"
    }
   ],
   "source": [
    "con.cursor().execute(\"USE WAREHOUSE CLIMA\")\n",
    "con.cursor().execute(\"USE DATABASE CHA2022\")\n",
    "con.cursor().execute(\"USE SCHEMA PUBLIC\")"
   ]
  },
  {
   "cell_type": "code",
   "execution_count": 27,
   "id": "69166aed",
   "metadata": {},
   "outputs": [
    {
     "data": {
      "text/plain": [
       "<snowflake.connector.cursor.SnowflakeCursor at 0x26d1f790bb0>"
      ]
     },
     "execution_count": 27,
     "metadata": {},
     "output_type": "execute_result"
    }
   ],
   "source": [
    "con.cursor().execute(\"Put file://C:\\Data_Challenge\\Climate_data_trends\\Energytrends.csv @DATOSEXT\")"
   ]
  },
  {
   "cell_type": "code",
   "execution_count": 36,
   "id": "32f283a1",
   "metadata": {},
   "outputs": [
    {
     "data": {
      "text/plain": [
       "<snowflake.connector.cursor.SnowflakeCursor at 0x26d1f744fa0>"
      ]
     },
     "execution_count": 36,
     "metadata": {},
     "output_type": "execute_result"
    }
   ],
   "source": [
    "con.cursor().execute(\"Put file://C:\\Data_Challenge\\Climate_data_trends\\ELECGEN_2007_2019_Electricity_Gen_by_country_Gwh.json @DATOSEXT\")"
   ]
  },
  {
   "cell_type": "code",
   "execution_count": 41,
   "id": "97145328",
   "metadata": {},
   "outputs": [
    {
     "data": {
      "text/plain": [
       "<snowflake.connector.cursor.SnowflakeCursor at 0x26d1f7917f0>"
      ]
     },
     "execution_count": 41,
     "metadata": {},
     "output_type": "execute_result"
    }
   ],
   "source": [
    "con.cursor().execute(\"CREATE STAGE IF NOT EXISTS EPI\")"
   ]
  },
  {
   "cell_type": "code",
   "execution_count": 59,
   "id": "89e5db5f",
   "metadata": {},
   "outputs": [
    {
     "data": {
      "text/plain": [
       "<snowflake.connector.cursor.SnowflakeCursor at 0x26d1fcc04f0>"
      ]
     },
     "execution_count": 59,
     "metadata": {},
     "output_type": "execute_result"
    }
   ],
   "source": [
    "con.cursor().execute(\"Put file://C:\\Data_Challenge\\EPI_Environmental_Performance_Index\\epi_indicatortla.csv @EPI\")"
   ]
  },
  {
   "cell_type": "code",
   "execution_count": 60,
   "id": "da09fc30",
   "metadata": {},
   "outputs": [
    {
     "data": {
      "text/plain": [
       "<snowflake.connector.cursor.SnowflakeCursor at 0x26d1fd1fb20>"
      ]
     },
     "execution_count": 60,
     "metadata": {},
     "output_type": "execute_result"
    }
   ],
   "source": [
    "con.cursor().execute(\"Put file://C:\\Data_Challenge\\EPI_Environmental_Performance_Index\\epi_results.csv @EPI\")"
   ]
  },
  {
   "cell_type": "code",
   "execution_count": 61,
   "id": "837e5e56",
   "metadata": {},
   "outputs": [
    {
     "data": {
      "text/plain": [
       "<snowflake.connector.cursor.SnowflakeCursor at 0x26d1fd2df40>"
      ]
     },
     "execution_count": 61,
     "metadata": {},
     "output_type": "execute_result"
    }
   ],
   "source": [
    "con.cursor().execute(\"Put file://C:\\Data_Challenge\\EPI_Environmental_Performance_Index\\epi_variableattributes.csv @EPI\")"
   ]
  },
  {
   "cell_type": "code",
   "execution_count": 42,
   "id": "4241de1e",
   "metadata": {},
   "outputs": [
    {
     "data": {
      "text/plain": [
       "<snowflake.connector.cursor.SnowflakeCursor at 0x26d1f6ddc10>"
      ]
     },
     "execution_count": 42,
     "metadata": {},
     "output_type": "execute_result"
    }
   ],
   "source": [
    "con.cursor().execute(\"CREATE STAGE IF NOT EXISTS GPP\")"
   ]
  },
  {
   "cell_type": "code",
   "execution_count": 13,
   "id": "73a2cf07",
   "metadata": {},
   "outputs": [
    {
     "data": {
      "text/plain": [
       "<snowflake.connector.cursor.SnowflakeCursor at 0x1ecabf6d490>"
      ]
     },
     "execution_count": 13,
     "metadata": {},
     "output_type": "execute_result"
    }
   ],
   "source": [
    "con.cursor().execute(\"Put file://C:\\Data_Challenge\\global_power_plant_database_v_1_3\\global_power_plant_database.csv @GPP\")"
   ]
  },
  {
   "cell_type": "code",
   "execution_count": 47,
   "id": "8fbd5e31",
   "metadata": {},
   "outputs": [
    {
     "data": {
      "text/plain": [
       "<snowflake.connector.cursor.SnowflakeCursor at 0x26d1f790370>"
      ]
     },
     "execution_count": 47,
     "metadata": {},
     "output_type": "execute_result"
    }
   ],
   "source": [
    "con.cursor().execute(\"CREATE STAGE IF NOT EXISTS SPCR\")"
   ]
  },
  {
   "cell_type": "code",
   "execution_count": 19,
   "id": "ffd0282c",
   "metadata": {},
   "outputs": [
    {
     "data": {
      "text/plain": [
       "<snowflake.connector.cursor.SnowflakeCursor at 0x1ecac220d00>"
      ]
     },
     "execution_count": 19,
     "metadata": {},
     "output_type": "execute_result"
    }
   ],
   "source": [
    "con.cursor().execute(\"Put file://C:\\Data_Challenge\\solar_potentoal_countryranking_2020_data\\Country_indicators.csv @SPCR\")"
   ]
  },
  {
   "cell_type": "code",
   "execution_count": 50,
   "id": "582340e9",
   "metadata": {},
   "outputs": [
    {
     "data": {
      "text/plain": [
       "<snowflake.connector.cursor.SnowflakeCursor at 0x26d1fcca6a0>"
      ]
     },
     "execution_count": 50,
     "metadata": {},
     "output_type": "execute_result"
    }
   ],
   "source": [
    "con.cursor().execute(\"Put file://C:\\Data_Challenge\\solar_potentoal_countryranking_2020_data\\Data_sources.csv @SPCR\")"
   ]
  },
  {
   "cell_type": "code",
   "execution_count": 51,
   "id": "b0db5c0f",
   "metadata": {},
   "outputs": [
    {
     "data": {
      "text/plain": [
       "<snowflake.connector.cursor.SnowflakeCursor at 0x26d1f799e50>"
      ]
     },
     "execution_count": 51,
     "metadata": {},
     "output_type": "execute_result"
    }
   ],
   "source": [
    "con.cursor().execute(\"Put file://C:\\Data_Challenge\\solar_potentoal_countryranking_2020_data\\Glossary.csv @SPCR\")"
   ]
  },
  {
   "cell_type": "code",
   "execution_count": 52,
   "id": "5e2d0571",
   "metadata": {},
   "outputs": [
    {
     "data": {
      "text/plain": [
       "<snowflake.connector.cursor.SnowflakeCursor at 0x26d1f7909d0>"
      ]
     },
     "execution_count": 52,
     "metadata": {},
     "output_type": "execute_result"
    }
   ],
   "source": [
    "con.cursor().execute(\"Put file://C:\\Data_Challenge\\solar_potentoal_countryranking_2020_data\\Monthly_data.csv @SPCR\")"
   ]
  },
  {
   "cell_type": "code",
   "execution_count": 53,
   "id": "8b936266",
   "metadata": {},
   "outputs": [
    {
     "data": {
      "text/plain": [
       "<snowflake.connector.cursor.SnowflakeCursor at 0x26d1fccbb80>"
      ]
     },
     "execution_count": 53,
     "metadata": {},
     "output_type": "execute_result"
    }
   ],
   "source": [
    "con.cursor().execute(\"Put file://C:\\Data_Challenge\\solar_potentoal_countryranking_2020_data\\Summary_statistics.csv @SPCR\")"
   ]
  },
  {
   "cell_type": "code",
   "execution_count": 56,
   "id": "ad30b34f",
   "metadata": {},
   "outputs": [
    {
     "data": {
      "text/plain": [
       "<snowflake.connector.cursor.SnowflakeCursor at 0x26d1fccaee0>"
      ]
     },
     "execution_count": 56,
     "metadata": {},
     "output_type": "execute_result"
    }
   ],
   "source": [
    "con.cursor().execute(\"CREATE STAGE IF NOT EXISTS WB\")"
   ]
  },
  {
   "cell_type": "code",
   "execution_count": 57,
   "id": "22cbd3a3",
   "metadata": {},
   "outputs": [
    {
     "data": {
      "text/plain": [
       "<snowflake.connector.cursor.SnowflakeCursor at 0x26d1fcc9a30>"
      ]
     },
     "execution_count": 57,
     "metadata": {},
     "output_type": "execute_result"
    }
   ],
   "source": [
    "con.cursor().execute(\"Put file://C:\\Data_Challenge\\WORLD_BANK_Sustainable_Energy_For_All\\SE4ALLData.csv @WB\")"
   ]
  },
  {
   "cell_type": "code",
   "execution_count": 58,
   "id": "48abb4fd",
   "metadata": {},
   "outputs": [
    {
     "data": {
      "text/plain": [
       "<snowflake.connector.cursor.SnowflakeCursor at 0x26d1fcd3820>"
      ]
     },
     "execution_count": 58,
     "metadata": {},
     "output_type": "execute_result"
    }
   ],
   "source": [
    "con.cursor().execute(\"Put file://C:\\Data_Challenge\\WORLD_BANK_Sustainable_Energy_For_All\\SE4ALLSeries.csv @WB\")"
   ]
  },
  {
   "cell_type": "code",
   "execution_count": 11,
   "id": "4aa27067",
   "metadata": {},
   "outputs": [
    {
     "data": {
      "text/plain": [
       "<snowflake.connector.cursor.SnowflakeCursor at 0x26e318485b0>"
      ]
     },
     "execution_count": 11,
     "metadata": {},
     "output_type": "execute_result"
    }
   ],
   "source": [
    "con.cursor().execute(\"CREATE STAGE IF NOT EXISTS EIA\")"
   ]
  },
  {
   "cell_type": "code",
   "execution_count": 12,
   "id": "b941a86b",
   "metadata": {},
   "outputs": [
    {
     "data": {
      "text/plain": [
       "<snowflake.connector.cursor.SnowflakeCursor at 0x26e30490e80>"
      ]
     },
     "execution_count": 12,
     "metadata": {},
     "output_type": "execute_result"
    }
   ],
   "source": [
    "con.cursor().execute(\"Put file://C:\\Data_Challenge\\EIA_Energy_Information_Adm\\CoalandCoke\\coal_and_coke_consumption.csv @EIA\")"
   ]
  },
  {
   "cell_type": "code",
   "execution_count": 13,
   "id": "caae5795",
   "metadata": {},
   "outputs": [
    {
     "data": {
      "text/plain": [
       "<snowflake.connector.cursor.SnowflakeCursor at 0x26e30209a90>"
      ]
     },
     "execution_count": 13,
     "metadata": {},
     "output_type": "execute_result"
    }
   ],
   "source": [
    "con.cursor().execute(\"Put file://C:\\Data_Challenge\\EIA_Energy_Information_Adm\\CoalandCoke\\coal_and_coke_exports.csv @EIA\")"
   ]
  },
  {
   "cell_type": "code",
   "execution_count": 14,
   "id": "2258aa42",
   "metadata": {},
   "outputs": [
    {
     "data": {
      "text/plain": [
       "<snowflake.connector.cursor.SnowflakeCursor at 0x26e30490460>"
      ]
     },
     "execution_count": 14,
     "metadata": {},
     "output_type": "execute_result"
    }
   ],
   "source": [
    "con.cursor().execute(\"Put file://C:\\Data_Challenge\\EIA_Energy_Information_Adm\\CoalandCoke\\coal_and_coke_imports.csv @EIA\")"
   ]
  },
  {
   "cell_type": "code",
   "execution_count": 16,
   "id": "95e7a728",
   "metadata": {},
   "outputs": [
    {
     "data": {
      "text/plain": [
       "<snowflake.connector.cursor.SnowflakeCursor at 0x26e318b2310>"
      ]
     },
     "execution_count": 16,
     "metadata": {},
     "output_type": "execute_result"
    }
   ],
   "source": [
    "con.cursor().execute(\"Put file://C:\\Data_Challenge\\EIA_Energy_Information_Adm\\CoalandCoke\\coal_and_coke_production.csv @EIA\")"
   ]
  },
  {
   "cell_type": "code",
   "execution_count": 17,
   "id": "231c03ab",
   "metadata": {},
   "outputs": [
    {
     "data": {
      "text/plain": [
       "<snowflake.connector.cursor.SnowflakeCursor at 0x26e318bb610>"
      ]
     },
     "execution_count": 17,
     "metadata": {},
     "output_type": "execute_result"
    }
   ],
   "source": [
    "con.cursor().execute(\"Put file://C:\\Data_Challenge\\EIA_Energy_Information_Adm\\CoalandCoke\\coal_reserves.csv @EIA\")"
   ]
  },
  {
   "cell_type": "code",
   "execution_count": 14,
   "id": "54d63a26",
   "metadata": {},
   "outputs": [
    {
     "data": {
      "text/plain": [
       "<snowflake.connector.cursor.SnowflakeCursor at 0x1c6ba141f70>"
      ]
     },
     "execution_count": 14,
     "metadata": {},
     "output_type": "execute_result"
    }
   ],
   "source": [
    "con.cursor().execute(\"Put file://C:\\Data_Challenge\\EIA_Energy_Information_Adm\\Electricity\\electricity_capacity.csv @EIA\")"
   ]
  },
  {
   "cell_type": "code",
   "execution_count": 19,
   "id": "7e0ffbff",
   "metadata": {},
   "outputs": [
    {
     "data": {
      "text/plain": [
       "<snowflake.connector.cursor.SnowflakeCursor at 0x26e318c30d0>"
      ]
     },
     "execution_count": 19,
     "metadata": {},
     "output_type": "execute_result"
    }
   ],
   "source": [
    "con.cursor().execute(\"Put file://C:\\Data_Challenge\\EIA_Energy_Information_Adm\\Electricity\\electricity_consumption.csv @EIA\")"
   ]
  },
  {
   "cell_type": "code",
   "execution_count": 20,
   "id": "7b13bd68",
   "metadata": {},
   "outputs": [
    {
     "data": {
      "text/plain": [
       "<snowflake.connector.cursor.SnowflakeCursor at 0x26e318b21f0>"
      ]
     },
     "execution_count": 20,
     "metadata": {},
     "output_type": "execute_result"
    }
   ],
   "source": [
    "con.cursor().execute(\"Put file://C:\\Data_Challenge\\EIA_Energy_Information_Adm\\Electricity\\electricity_exports.csv @EIA\")"
   ]
  },
  {
   "cell_type": "code",
   "execution_count": 21,
   "id": "53a29f4b",
   "metadata": {},
   "outputs": [
    {
     "data": {
      "text/plain": [
       "<snowflake.connector.cursor.SnowflakeCursor at 0x26e318c3ca0>"
      ]
     },
     "execution_count": 21,
     "metadata": {},
     "output_type": "execute_result"
    }
   ],
   "source": [
    "con.cursor().execute(\"Put file://C:\\Data_Challenge\\EIA_Energy_Information_Adm\\Electricity\\electricity_generation.csv @EIA\")"
   ]
  },
  {
   "cell_type": "code",
   "execution_count": 22,
   "id": "b3613f73",
   "metadata": {},
   "outputs": [
    {
     "data": {
      "text/plain": [
       "<snowflake.connector.cursor.SnowflakeCursor at 0x26e318c3dc0>"
      ]
     },
     "execution_count": 22,
     "metadata": {},
     "output_type": "execute_result"
    }
   ],
   "source": [
    "con.cursor().execute(\"Put file://C:\\Data_Challenge\\EIA_Energy_Information_Adm\\Electricity\\electricity_imports.csv @EIA\")"
   ]
  },
  {
   "cell_type": "code",
   "execution_count": 23,
   "id": "7dd95b45",
   "metadata": {},
   "outputs": [
    {
     "data": {
      "text/plain": [
       "<snowflake.connector.cursor.SnowflakeCursor at 0x26e318b2820>"
      ]
     },
     "execution_count": 23,
     "metadata": {},
     "output_type": "execute_result"
    }
   ],
   "source": [
    "con.cursor().execute(\"Put file://C:\\Data_Challenge\\EIA_Energy_Information_Adm\\Electricity\\electricity_net_imports.csv @EIA\")"
   ]
  },
  {
   "cell_type": "code",
   "execution_count": 27,
   "id": "f4882a19",
   "metadata": {},
   "outputs": [
    {
     "data": {
      "text/plain": [
       "<snowflake.connector.cursor.SnowflakeCursor at 0x26e31910a00>"
      ]
     },
     "execution_count": 27,
     "metadata": {},
     "output_type": "execute_result"
    }
   ],
   "source": [
    "con.cursor().execute(\"Put file://C:\\Data_Challenge\\EIA_Energy_Information_Adm\\Hydrocarbon_gas_liquids\\hydrocarbon_gas_liquids_consumption.csv @EIA\")"
   ]
  },
  {
   "cell_type": "code",
   "execution_count": 28,
   "id": "d0be15f7",
   "metadata": {},
   "outputs": [
    {
     "data": {
      "text/plain": [
       "<snowflake.connector.cursor.SnowflakeCursor at 0x26e31910940>"
      ]
     },
     "execution_count": 28,
     "metadata": {},
     "output_type": "execute_result"
    }
   ],
   "source": [
    "con.cursor().execute(\"Put file://C:\\Data_Challenge\\EIA_Energy_Information_Adm\\Hydrocarbon_gas_liquids\\hydrocarbon_gas_liquids_exports.csv @EIA\")"
   ]
  },
  {
   "cell_type": "code",
   "execution_count": 31,
   "id": "d6671fe2",
   "metadata": {},
   "outputs": [
    {
     "data": {
      "text/plain": [
       "<snowflake.connector.cursor.SnowflakeCursor at 0x26e318c47f0>"
      ]
     },
     "execution_count": 31,
     "metadata": {},
     "output_type": "execute_result"
    }
   ],
   "source": [
    "con.cursor().execute(\"Put file://C:\\Data_Challenge\\EIA_Energy_Information_Adm\\Hydrocarbon_gas_liquids\\hydrocarbon_gas_liquids_imports.csv @EIA\")"
   ]
  },
  {
   "cell_type": "code",
   "execution_count": 33,
   "id": "4e1340f9",
   "metadata": {},
   "outputs": [
    {
     "data": {
      "text/plain": [
       "<snowflake.connector.cursor.SnowflakeCursor at 0x26e318c3370>"
      ]
     },
     "execution_count": 33,
     "metadata": {},
     "output_type": "execute_result"
    }
   ],
   "source": [
    "con.cursor().execute(\"Put file://C:\\Data_Challenge\\EIA_Energy_Information_Adm\\Hydrocarbon_gas_liquids\\hydrocarbon_gas_liquids_production.csv @EIA\")"
   ]
  },
  {
   "cell_type": "code",
   "execution_count": 7,
   "id": "d1017721",
   "metadata": {},
   "outputs": [
    {
     "data": {
      "text/plain": [
       "<snowflake.connector.cursor.SnowflakeCursor at 0x1c6b9e2e070>"
      ]
     },
     "execution_count": 7,
     "metadata": {},
     "output_type": "execute_result"
    }
   ],
   "source": [
    "con.cursor().execute(\"Put file://C:/Data_Challenge/EIA_Energy_Information_Adm/Natural_gas/dry_natural_gas_consumption.csv @EIA\")"
   ]
  },
  {
   "cell_type": "code",
   "execution_count": 8,
   "id": "a92be09a",
   "metadata": {},
   "outputs": [
    {
     "data": {
      "text/plain": [
       "<snowflake.connector.cursor.SnowflakeCursor at 0x1c6ba0a0460>"
      ]
     },
     "execution_count": 8,
     "metadata": {},
     "output_type": "execute_result"
    }
   ],
   "source": [
    "con.cursor().execute(\"Put file://C:/Data_Challenge/EIA_Energy_Information_Adm/Natural_gas/dry_natural_gas_exports.csv @EIA\")"
   ]
  },
  {
   "cell_type": "code",
   "execution_count": 9,
   "id": "a28049a5",
   "metadata": {},
   "outputs": [
    {
     "data": {
      "text/plain": [
       "<snowflake.connector.cursor.SnowflakeCursor at 0x1c6ba1370d0>"
      ]
     },
     "execution_count": 9,
     "metadata": {},
     "output_type": "execute_result"
    }
   ],
   "source": [
    "con.cursor().execute(\"Put file://C:/Data_Challenge/EIA_Energy_Information_Adm/Natural_gas/dry_natural_gas_imports.csv @EIA\")"
   ]
  },
  {
   "cell_type": "code",
   "execution_count": 10,
   "id": "4521540c",
   "metadata": {},
   "outputs": [
    {
     "data": {
      "text/plain": [
       "<snowflake.connector.cursor.SnowflakeCursor at 0x1c6ba0a17c0>"
      ]
     },
     "execution_count": 10,
     "metadata": {},
     "output_type": "execute_result"
    }
   ],
   "source": [
    "con.cursor().execute(\"Put file://C:/Data_Challenge/EIA_Energy_Information_Adm/Natural_gas/dry_natural_gas_production.csv @EIA\")"
   ]
  },
  {
   "cell_type": "code",
   "execution_count": 11,
   "id": "07af8cfc",
   "metadata": {},
   "outputs": [
    {
     "data": {
      "text/plain": [
       "<snowflake.connector.cursor.SnowflakeCursor at 0x1c6ba0a0f10>"
      ]
     },
     "execution_count": 11,
     "metadata": {},
     "output_type": "execute_result"
    }
   ],
   "source": [
    "con.cursor().execute(\"Put file://C:/Data_Challenge/EIA_Energy_Information_Adm/Natural_gas/dry_natural_gas_reserves.csv @EIA\")"
   ]
  },
  {
   "cell_type": "code",
   "execution_count": null,
   "id": "1bedb0e8",
   "metadata": {},
   "outputs": [],
   "source": []
  }
 ],
 "metadata": {
  "kernelspec": {
   "display_name": "Python 3 (ipykernel)",
   "language": "python",
   "name": "python3"
  },
  "language_info": {
   "codemirror_mode": {
    "name": "ipython",
    "version": 3
   },
   "file_extension": ".py",
   "mimetype": "text/x-python",
   "name": "python",
   "nbconvert_exporter": "python",
   "pygments_lexer": "ipython3",
   "version": "3.9.7"
  }
 },
 "nbformat": 4,
 "nbformat_minor": 5
}
