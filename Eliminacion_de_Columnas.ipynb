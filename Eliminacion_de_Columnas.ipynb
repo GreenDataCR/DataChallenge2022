{
  "nbformat": 4,
  "nbformat_minor": 0,
  "metadata": {
    "colab": {
      "name": "Eliminacion_de_Columnas.ipynb",
      "provenance": [],
      "collapsed_sections": []
    },
    "kernelspec": {
      "name": "python3",
      "display_name": "Python 3"
    },
    "language_info": {
      "name": "python"
    }
  },
  "cells": [
    {
      "cell_type": "code",
      "execution_count": null,
      "metadata": {
        "id": "Dm9HV7W3xI8F"
      },
      "outputs": [],
      "source": [
        "#import libraries\n",
        "import numpy as np\n",
        "import pandas as pd\n",
        "from pandas_profiling import ProfileReport"
      ]
    },
    {
      "cell_type": "code",
      "source": [
        "#read DataFrame\n",
        "df = pd.read_csv('/content/drive/MyDrive/Data/Data_Challenge-main/WORLD_BANK_Sustainable_Energy_For_All/SE4ALLData.csv')\n",
        "df"
      ],
      "metadata": {
        "id": "izYB-hhGxKbl"
      },
      "execution_count": null,
      "outputs": []
    },
    {
      "cell_type": "code",
      "source": [
        "print (\"Valores vacios en las columnas\", df.isna().sum(), sep='\\n') \n",
        "#muestra la informacion que no se llena "
      ],
      "metadata": {
        "id": "6I3LS6i6xZCx"
      },
      "execution_count": null,
      "outputs": []
    },
    {
      "cell_type": "code",
      "source": [
        "df2=df.drop(['Unnamed: 31'], axis=1)"
      ],
      "metadata": {
        "id": "2M_ksEW4xMx2"
      },
      "execution_count": null,
      "outputs": []
    },
    {
      "cell_type": "code",
      "source": [
        "df2"
      ],
      "metadata": {
        "id": "jcJSS_Q8GOct"
      },
      "execution_count": null,
      "outputs": []
    },
    {
      "cell_type": "code",
      "source": [
        "#Guarda datos en CSV:\n",
        "df2.to_csv('SE4ALLData2.csv', index=False)"
      ],
      "metadata": {
        "id": "cwtm9iEixQDf"
      },
      "execution_count": null,
      "outputs": []
    },
    {
      "cell_type": "code",
      "source": [
        "#read DataFrame\n",
        "df3 = pd.read_csv('/content/drive/MyDrive/Data/Data_Challenge-main/global_power_plant_database_v_1_3/global_power_plant_database.csv')\n",
        "df3"
      ],
      "metadata": {
        "id": "QZjoNy_6Q0Ai"
      },
      "execution_count": null,
      "outputs": []
    },
    {
      "cell_type": "code",
      "source": [
        "df3['source']"
      ],
      "metadata": {
        "id": "qln1LwrPS4NQ"
      },
      "execution_count": null,
      "outputs": []
    },
    {
      "cell_type": "code",
      "source": [
        "df3['url']"
      ],
      "metadata": {
        "id": "5TWUKWVBTYDK"
      },
      "execution_count": null,
      "outputs": []
    },
    {
      "cell_type": "code",
      "source": [
        "df3['owner']"
      ],
      "metadata": {
        "id": "yRZDVtlWTmXo"
      },
      "execution_count": null,
      "outputs": []
    },
    {
      "cell_type": "code",
      "source": [
        "df3['wepp_id']"
      ],
      "metadata": {
        "colab": {
          "base_uri": "https://localhost:8080/"
        },
        "id": "jBils2W5fGo0",
        "outputId": "90f952f6-c5a8-44ad-f76c-fdf2c6492752"
      },
      "execution_count": null,
      "outputs": [
        {
          "output_type": "execute_result",
          "data": {
            "text/plain": [
              "0        1009793\n",
              "1            NaN\n",
              "2            NaN\n",
              "3        1009795\n",
              "4        1009797\n",
              "          ...   \n",
              "34931    1089529\n",
              "34932    1043097\n",
              "34933    1033763\n",
              "34934    1033856\n",
              "34935    1033857\n",
              "Name: wepp_id, Length: 34936, dtype: object"
            ]
          },
          "metadata": {},
          "execution_count": 51
        }
      ]
    },
    {
      "cell_type": "code",
      "source": [
        "print (\"Valores vacios en las columnas\", df3.isna().sum(), sep='\\n') "
      ],
      "metadata": {
        "colab": {
          "base_uri": "https://localhost:8080/"
        },
        "id": "7p97ZF_OSBe8",
        "outputId": "84e0ba3a-261e-439a-fd33-f69e0372e2ed"
      },
      "execution_count": null,
      "outputs": [
        {
          "output_type": "stream",
          "name": "stdout",
          "text": [
            "Valores vacios en las columnas\n",
            "country                               0\n",
            "country_long                          0\n",
            "name                                  0\n",
            "gppd_idnr                             0\n",
            "capacity_mw                           0\n",
            "latitude                              0\n",
            "longitude                             0\n",
            "primary_fuel                          0\n",
            "other_fuel1                       32992\n",
            "other_fuel2                       34660\n",
            "other_fuel3                       34844\n",
            "commissioning_year                17489\n",
            "geolocation_source                  419\n",
            "wepp_id                           18702\n",
            "year_of_capacity_data             20049\n",
            "generation_gwh_2013               28519\n",
            "generation_gwh_2014               27710\n",
            "generation_gwh_2015               26733\n",
            "generation_gwh_2016               25792\n",
            "generation_gwh_2017               25436\n",
            "generation_gwh_2018               25299\n",
            "generation_gwh_2019               25277\n",
            "generation_data_source            23536\n",
            "estimated_generation_gwh_2013     18816\n",
            "estimated_generation_gwh_2014     18433\n",
            "estimated_generation_gwh_2015     17886\n",
            "estimated_generation_gwh_2016     17366\n",
            "estimated_generation_gwh_2017      1798\n",
            "estimated_generation_note_2013        0\n",
            "estimated_generation_note_2014        0\n",
            "estimated_generation_note_2015        0\n",
            "estimated_generation_note_2016        0\n",
            "estimated_generation_note_2017        0\n",
            "dtype: int64\n"
          ]
        }
      ]
    },
    {
      "cell_type": "code",
      "source": [
        "df3=df3.drop(['url'], axis=1)"
      ],
      "metadata": {
        "id": "zwMYnIL_VXyF"
      },
      "execution_count": null,
      "outputs": []
    },
    {
      "cell_type": "code",
      "source": [
        "df3=df3.drop(['owner'], axis=1)"
      ],
      "metadata": {
        "id": "Bq1z5iFLVaqe"
      },
      "execution_count": null,
      "outputs": []
    },
    {
      "cell_type": "code",
      "source": [
        "df3=df3.drop(['wepp_id'], axis=1)"
      ],
      "metadata": {
        "id": "AkIYItk3fhs3"
      },
      "execution_count": null,
      "outputs": []
    },
    {
      "cell_type": "code",
      "source": [
        "#Guarda datos en CSV:\n",
        "df3.to_csv('global_power_plant_database.csv', index=False)"
      ],
      "metadata": {
        "id": "IS9oUXSZVwPB"
      },
      "execution_count": null,
      "outputs": []
    },
    {
      "cell_type": "code",
      "source": [
        ""
      ],
      "metadata": {
        "id": "7kdJZR160A_j"
      },
      "execution_count": null,
      "outputs": []
    },
    {
      "cell_type": "markdown",
      "source": [
        "#Limpieza de tabla ELECGEN_2007_2019_Electricity_Gen_by_country_Gwh.json')\n"
      ],
      "metadata": {
        "id": "uGHurbf6-Nnj"
      }
    },
    {
      "cell_type": "code",
      "source": [
        "#read DataFrame\n",
        "df4 = pd.read_json('/content/drive/MyDrive/Data/Data_Challenge-main/Climate_data_trends/ELECGEN_2007_2019_Electricity_Gen_by_country_Gwh.json')\n",
        "df4"
      ],
      "metadata": {
        "id": "Mz_PV9CttDvM",
        "colab": {
          "base_uri": "https://localhost:8080/",
          "height": 423
        },
        "outputId": "d0e490ec-d3a9-4d12-805c-8a7055ed81e2"
      },
      "execution_count": null,
      "outputs": [
        {
          "output_type": "execute_result",
          "data": {
            "text/plain": [
              "      Country/area                  Technology Grid connection  Year  \\\n",
              "0      Afghanistan  On-grid Solar photovoltaic        Off-grid  2007   \n",
              "1      Afghanistan  On-grid Solar photovoltaic        Off-grid  2008   \n",
              "2      Afghanistan  On-grid Solar photovoltaic        Off-grid  2009   \n",
              "3      Afghanistan  On-grid Solar photovoltaic        Off-grid  2010   \n",
              "4      Afghanistan  On-grid Solar photovoltaic        Off-grid  2011   \n",
              "...            ...                         ...             ...   ...   \n",
              "98119     Zimbabwe  Other non-renewable energy         On-grid  2015   \n",
              "98120     Zimbabwe  Other non-renewable energy         On-grid  2016   \n",
              "98121     Zimbabwe  Other non-renewable energy         On-grid  2017   \n",
              "98122     Zimbabwe  Other non-renewable energy         On-grid  2018   \n",
              "98123     Zimbabwe  Other non-renewable energy         On-grid  2019   \n",
              "\n",
              "      Electricity generation by country/area (GWh)  \n",
              "0                                               ..  \n",
              "1                                               ..  \n",
              "2                                               ..  \n",
              "3                                               ..  \n",
              "4                                               ..  \n",
              "...                                            ...  \n",
              "98119                                           ..  \n",
              "98120                                           ..  \n",
              "98121                                           ..  \n",
              "98122                                           ..  \n",
              "98123                                           ..  \n",
              "\n",
              "[98124 rows x 5 columns]"
            ],
            "text/html": [
              "\n",
              "  <div id=\"df-d342bcf3-98b8-45bb-999d-dc773ccff43c\">\n",
              "    <div class=\"colab-df-container\">\n",
              "      <div>\n",
              "<style scoped>\n",
              "    .dataframe tbody tr th:only-of-type {\n",
              "        vertical-align: middle;\n",
              "    }\n",
              "\n",
              "    .dataframe tbody tr th {\n",
              "        vertical-align: top;\n",
              "    }\n",
              "\n",
              "    .dataframe thead th {\n",
              "        text-align: right;\n",
              "    }\n",
              "</style>\n",
              "<table border=\"1\" class=\"dataframe\">\n",
              "  <thead>\n",
              "    <tr style=\"text-align: right;\">\n",
              "      <th></th>\n",
              "      <th>Country/area</th>\n",
              "      <th>Technology</th>\n",
              "      <th>Grid connection</th>\n",
              "      <th>Year</th>\n",
              "      <th>Electricity generation by country/area (GWh)</th>\n",
              "    </tr>\n",
              "  </thead>\n",
              "  <tbody>\n",
              "    <tr>\n",
              "      <th>0</th>\n",
              "      <td>Afghanistan</td>\n",
              "      <td>On-grid Solar photovoltaic</td>\n",
              "      <td>Off-grid</td>\n",
              "      <td>2007</td>\n",
              "      <td>..</td>\n",
              "    </tr>\n",
              "    <tr>\n",
              "      <th>1</th>\n",
              "      <td>Afghanistan</td>\n",
              "      <td>On-grid Solar photovoltaic</td>\n",
              "      <td>Off-grid</td>\n",
              "      <td>2008</td>\n",
              "      <td>..</td>\n",
              "    </tr>\n",
              "    <tr>\n",
              "      <th>2</th>\n",
              "      <td>Afghanistan</td>\n",
              "      <td>On-grid Solar photovoltaic</td>\n",
              "      <td>Off-grid</td>\n",
              "      <td>2009</td>\n",
              "      <td>..</td>\n",
              "    </tr>\n",
              "    <tr>\n",
              "      <th>3</th>\n",
              "      <td>Afghanistan</td>\n",
              "      <td>On-grid Solar photovoltaic</td>\n",
              "      <td>Off-grid</td>\n",
              "      <td>2010</td>\n",
              "      <td>..</td>\n",
              "    </tr>\n",
              "    <tr>\n",
              "      <th>4</th>\n",
              "      <td>Afghanistan</td>\n",
              "      <td>On-grid Solar photovoltaic</td>\n",
              "      <td>Off-grid</td>\n",
              "      <td>2011</td>\n",
              "      <td>..</td>\n",
              "    </tr>\n",
              "    <tr>\n",
              "      <th>...</th>\n",
              "      <td>...</td>\n",
              "      <td>...</td>\n",
              "      <td>...</td>\n",
              "      <td>...</td>\n",
              "      <td>...</td>\n",
              "    </tr>\n",
              "    <tr>\n",
              "      <th>98119</th>\n",
              "      <td>Zimbabwe</td>\n",
              "      <td>Other non-renewable energy</td>\n",
              "      <td>On-grid</td>\n",
              "      <td>2015</td>\n",
              "      <td>..</td>\n",
              "    </tr>\n",
              "    <tr>\n",
              "      <th>98120</th>\n",
              "      <td>Zimbabwe</td>\n",
              "      <td>Other non-renewable energy</td>\n",
              "      <td>On-grid</td>\n",
              "      <td>2016</td>\n",
              "      <td>..</td>\n",
              "    </tr>\n",
              "    <tr>\n",
              "      <th>98121</th>\n",
              "      <td>Zimbabwe</td>\n",
              "      <td>Other non-renewable energy</td>\n",
              "      <td>On-grid</td>\n",
              "      <td>2017</td>\n",
              "      <td>..</td>\n",
              "    </tr>\n",
              "    <tr>\n",
              "      <th>98122</th>\n",
              "      <td>Zimbabwe</td>\n",
              "      <td>Other non-renewable energy</td>\n",
              "      <td>On-grid</td>\n",
              "      <td>2018</td>\n",
              "      <td>..</td>\n",
              "    </tr>\n",
              "    <tr>\n",
              "      <th>98123</th>\n",
              "      <td>Zimbabwe</td>\n",
              "      <td>Other non-renewable energy</td>\n",
              "      <td>On-grid</td>\n",
              "      <td>2019</td>\n",
              "      <td>..</td>\n",
              "    </tr>\n",
              "  </tbody>\n",
              "</table>\n",
              "<p>98124 rows × 5 columns</p>\n",
              "</div>\n",
              "      <button class=\"colab-df-convert\" onclick=\"convertToInteractive('df-d342bcf3-98b8-45bb-999d-dc773ccff43c')\"\n",
              "              title=\"Convert this dataframe to an interactive table.\"\n",
              "              style=\"display:none;\">\n",
              "        \n",
              "  <svg xmlns=\"http://www.w3.org/2000/svg\" height=\"24px\"viewBox=\"0 0 24 24\"\n",
              "       width=\"24px\">\n",
              "    <path d=\"M0 0h24v24H0V0z\" fill=\"none\"/>\n",
              "    <path d=\"M18.56 5.44l.94 2.06.94-2.06 2.06-.94-2.06-.94-.94-2.06-.94 2.06-2.06.94zm-11 1L8.5 8.5l.94-2.06 2.06-.94-2.06-.94L8.5 2.5l-.94 2.06-2.06.94zm10 10l.94 2.06.94-2.06 2.06-.94-2.06-.94-.94-2.06-.94 2.06-2.06.94z\"/><path d=\"M17.41 7.96l-1.37-1.37c-.4-.4-.92-.59-1.43-.59-.52 0-1.04.2-1.43.59L10.3 9.45l-7.72 7.72c-.78.78-.78 2.05 0 2.83L4 21.41c.39.39.9.59 1.41.59.51 0 1.02-.2 1.41-.59l7.78-7.78 2.81-2.81c.8-.78.8-2.07 0-2.86zM5.41 20L4 18.59l7.72-7.72 1.47 1.35L5.41 20z\"/>\n",
              "  </svg>\n",
              "      </button>\n",
              "      \n",
              "  <style>\n",
              "    .colab-df-container {\n",
              "      display:flex;\n",
              "      flex-wrap:wrap;\n",
              "      gap: 12px;\n",
              "    }\n",
              "\n",
              "    .colab-df-convert {\n",
              "      background-color: #E8F0FE;\n",
              "      border: none;\n",
              "      border-radius: 50%;\n",
              "      cursor: pointer;\n",
              "      display: none;\n",
              "      fill: #1967D2;\n",
              "      height: 32px;\n",
              "      padding: 0 0 0 0;\n",
              "      width: 32px;\n",
              "    }\n",
              "\n",
              "    .colab-df-convert:hover {\n",
              "      background-color: #E2EBFA;\n",
              "      box-shadow: 0px 1px 2px rgba(60, 64, 67, 0.3), 0px 1px 3px 1px rgba(60, 64, 67, 0.15);\n",
              "      fill: #174EA6;\n",
              "    }\n",
              "\n",
              "    [theme=dark] .colab-df-convert {\n",
              "      background-color: #3B4455;\n",
              "      fill: #D2E3FC;\n",
              "    }\n",
              "\n",
              "    [theme=dark] .colab-df-convert:hover {\n",
              "      background-color: #434B5C;\n",
              "      box-shadow: 0px 1px 3px 1px rgba(0, 0, 0, 0.15);\n",
              "      filter: drop-shadow(0px 1px 2px rgba(0, 0, 0, 0.3));\n",
              "      fill: #FFFFFF;\n",
              "    }\n",
              "  </style>\n",
              "\n",
              "      <script>\n",
              "        const buttonEl =\n",
              "          document.querySelector('#df-d342bcf3-98b8-45bb-999d-dc773ccff43c button.colab-df-convert');\n",
              "        buttonEl.style.display =\n",
              "          google.colab.kernel.accessAllowed ? 'block' : 'none';\n",
              "\n",
              "        async function convertToInteractive(key) {\n",
              "          const element = document.querySelector('#df-d342bcf3-98b8-45bb-999d-dc773ccff43c');\n",
              "          const dataTable =\n",
              "            await google.colab.kernel.invokeFunction('convertToInteractive',\n",
              "                                                     [key], {});\n",
              "          if (!dataTable) return;\n",
              "\n",
              "          const docLinkHtml = 'Like what you see? Visit the ' +\n",
              "            '<a target=\"_blank\" href=https://colab.research.google.com/notebooks/data_table.ipynb>data table notebook</a>'\n",
              "            + ' to learn more about interactive tables.';\n",
              "          element.innerHTML = '';\n",
              "          dataTable['output_type'] = 'display_data';\n",
              "          await google.colab.output.renderOutput(dataTable, element);\n",
              "          const docLink = document.createElement('div');\n",
              "          docLink.innerHTML = docLinkHtml;\n",
              "          element.appendChild(docLink);\n",
              "        }\n",
              "      </script>\n",
              "    </div>\n",
              "  </div>\n",
              "  "
            ]
          },
          "metadata": {},
          "execution_count": 19
        }
      ]
    },
    {
      "cell_type": "code",
      "source": [
        "df4.info()"
      ],
      "metadata": {
        "colab": {
          "base_uri": "https://localhost:8080/"
        },
        "id": "YWyRS2EJQsWc",
        "outputId": "bd493fc0-991b-4059-cc81-d53402bdc518"
      },
      "execution_count": null,
      "outputs": [
        {
          "output_type": "stream",
          "name": "stdout",
          "text": [
            "<class 'pandas.core.frame.DataFrame'>\n",
            "RangeIndex: 98124 entries, 0 to 98123\n",
            "Data columns (total 5 columns):\n",
            " #   Column                                        Non-Null Count  Dtype \n",
            "---  ------                                        --------------  ----- \n",
            " 0   Country/area                                  98124 non-null  object\n",
            " 1   Technology                                    98124 non-null  object\n",
            " 2   Grid connection                               98124 non-null  object\n",
            " 3   Year                                          98124 non-null  int64 \n",
            " 4   Electricity generation by country/area (GWh)  98124 non-null  object\n",
            "dtypes: int64(1), object(4)\n",
            "memory usage: 3.7+ MB\n"
          ]
        }
      ]
    },
    {
      "cell_type": "code",
      "source": [
        "# Get names of indexes for which column Stock has value No\n",
        "indexNames = df4[ df4['Electricity generation by country/area (GWh)'] == '..' ].index\n",
        "# Delete these row indexes from dataFrame\n",
        "df4.drop(indexNames , inplace=True)\n",
        "print(df4)"
      ],
      "metadata": {
        "colab": {
          "base_uri": "https://localhost:8080/"
        },
        "id": "5bd9e2PNRE23",
        "outputId": "8181b68d-b442-4afd-e683-4b45b76c717f"
      },
      "execution_count": null,
      "outputs": [
        {
          "output_type": "stream",
          "name": "stdout",
          "text": [
            "      Country/area                   Technology Grid connection  Year  \\\n",
            "22     Afghanistan   On-grid Solar photovoltaic         On-grid  2016   \n",
            "23     Afghanistan   On-grid Solar photovoltaic         On-grid  2017   \n",
            "24     Afghanistan   On-grid Solar photovoltaic         On-grid  2018   \n",
            "25     Afghanistan   On-grid Solar photovoltaic         On-grid  2019   \n",
            "28     Afghanistan  Off-grid Solar photovoltaic        Off-grid  2009   \n",
            "...            ...                          ...             ...   ...   \n",
            "98067     Zimbabwe                 Fossil fuels         On-grid  2015   \n",
            "98068     Zimbabwe                 Fossil fuels         On-grid  2016   \n",
            "98069     Zimbabwe                 Fossil fuels         On-grid  2017   \n",
            "98070     Zimbabwe                 Fossil fuels         On-grid  2018   \n",
            "98071     Zimbabwe                 Fossil fuels         On-grid  2019   \n",
            "\n",
            "      Electricity generation by country/area (GWh)  \n",
            "22                                           2.992  \n",
            "23                                           2.263  \n",
            "24                                           2.263  \n",
            "25                                          15.578  \n",
            "28                                           0.004  \n",
            "...                                            ...  \n",
            "98067                                         4277  \n",
            "98068                                       4065.9  \n",
            "98069                                       3685.8  \n",
            "98070                                     3710.498  \n",
            "98071                                     3710.498  \n",
            "\n",
            "[16757 rows x 5 columns]\n"
          ]
        }
      ]
    },
    {
      "cell_type": "code",
      "source": [
        "df4.head()"
      ],
      "metadata": {
        "colab": {
          "base_uri": "https://localhost:8080/",
          "height": 206
        },
        "id": "WnISMDeNOfPO",
        "outputId": "fa37d560-9fe6-41a0-f810-f2efdc3e5d15"
      },
      "execution_count": null,
      "outputs": [
        {
          "output_type": "execute_result",
          "data": {
            "text/plain": [
              "   Country/area                   Technology Grid connection  Year  \\\n",
              "22  Afghanistan   On-grid Solar photovoltaic         On-grid  2016   \n",
              "23  Afghanistan   On-grid Solar photovoltaic         On-grid  2017   \n",
              "24  Afghanistan   On-grid Solar photovoltaic         On-grid  2018   \n",
              "25  Afghanistan   On-grid Solar photovoltaic         On-grid  2019   \n",
              "28  Afghanistan  Off-grid Solar photovoltaic        Off-grid  2009   \n",
              "\n",
              "   Electricity generation by country/area (GWh)  \n",
              "22                                        2.992  \n",
              "23                                        2.263  \n",
              "24                                        2.263  \n",
              "25                                       15.578  \n",
              "28                                        0.004  "
            ],
            "text/html": [
              "\n",
              "  <div id=\"df-4a67d8d5-af37-4f59-a6c3-853597431913\">\n",
              "    <div class=\"colab-df-container\">\n",
              "      <div>\n",
              "<style scoped>\n",
              "    .dataframe tbody tr th:only-of-type {\n",
              "        vertical-align: middle;\n",
              "    }\n",
              "\n",
              "    .dataframe tbody tr th {\n",
              "        vertical-align: top;\n",
              "    }\n",
              "\n",
              "    .dataframe thead th {\n",
              "        text-align: right;\n",
              "    }\n",
              "</style>\n",
              "<table border=\"1\" class=\"dataframe\">\n",
              "  <thead>\n",
              "    <tr style=\"text-align: right;\">\n",
              "      <th></th>\n",
              "      <th>Country/area</th>\n",
              "      <th>Technology</th>\n",
              "      <th>Grid connection</th>\n",
              "      <th>Year</th>\n",
              "      <th>Electricity generation by country/area (GWh)</th>\n",
              "    </tr>\n",
              "  </thead>\n",
              "  <tbody>\n",
              "    <tr>\n",
              "      <th>22</th>\n",
              "      <td>Afghanistan</td>\n",
              "      <td>On-grid Solar photovoltaic</td>\n",
              "      <td>On-grid</td>\n",
              "      <td>2016</td>\n",
              "      <td>2.992</td>\n",
              "    </tr>\n",
              "    <tr>\n",
              "      <th>23</th>\n",
              "      <td>Afghanistan</td>\n",
              "      <td>On-grid Solar photovoltaic</td>\n",
              "      <td>On-grid</td>\n",
              "      <td>2017</td>\n",
              "      <td>2.263</td>\n",
              "    </tr>\n",
              "    <tr>\n",
              "      <th>24</th>\n",
              "      <td>Afghanistan</td>\n",
              "      <td>On-grid Solar photovoltaic</td>\n",
              "      <td>On-grid</td>\n",
              "      <td>2018</td>\n",
              "      <td>2.263</td>\n",
              "    </tr>\n",
              "    <tr>\n",
              "      <th>25</th>\n",
              "      <td>Afghanistan</td>\n",
              "      <td>On-grid Solar photovoltaic</td>\n",
              "      <td>On-grid</td>\n",
              "      <td>2019</td>\n",
              "      <td>15.578</td>\n",
              "    </tr>\n",
              "    <tr>\n",
              "      <th>28</th>\n",
              "      <td>Afghanistan</td>\n",
              "      <td>Off-grid Solar photovoltaic</td>\n",
              "      <td>Off-grid</td>\n",
              "      <td>2009</td>\n",
              "      <td>0.004</td>\n",
              "    </tr>\n",
              "  </tbody>\n",
              "</table>\n",
              "</div>\n",
              "      <button class=\"colab-df-convert\" onclick=\"convertToInteractive('df-4a67d8d5-af37-4f59-a6c3-853597431913')\"\n",
              "              title=\"Convert this dataframe to an interactive table.\"\n",
              "              style=\"display:none;\">\n",
              "        \n",
              "  <svg xmlns=\"http://www.w3.org/2000/svg\" height=\"24px\"viewBox=\"0 0 24 24\"\n",
              "       width=\"24px\">\n",
              "    <path d=\"M0 0h24v24H0V0z\" fill=\"none\"/>\n",
              "    <path d=\"M18.56 5.44l.94 2.06.94-2.06 2.06-.94-2.06-.94-.94-2.06-.94 2.06-2.06.94zm-11 1L8.5 8.5l.94-2.06 2.06-.94-2.06-.94L8.5 2.5l-.94 2.06-2.06.94zm10 10l.94 2.06.94-2.06 2.06-.94-2.06-.94-.94-2.06-.94 2.06-2.06.94z\"/><path d=\"M17.41 7.96l-1.37-1.37c-.4-.4-.92-.59-1.43-.59-.52 0-1.04.2-1.43.59L10.3 9.45l-7.72 7.72c-.78.78-.78 2.05 0 2.83L4 21.41c.39.39.9.59 1.41.59.51 0 1.02-.2 1.41-.59l7.78-7.78 2.81-2.81c.8-.78.8-2.07 0-2.86zM5.41 20L4 18.59l7.72-7.72 1.47 1.35L5.41 20z\"/>\n",
              "  </svg>\n",
              "      </button>\n",
              "      \n",
              "  <style>\n",
              "    .colab-df-container {\n",
              "      display:flex;\n",
              "      flex-wrap:wrap;\n",
              "      gap: 12px;\n",
              "    }\n",
              "\n",
              "    .colab-df-convert {\n",
              "      background-color: #E8F0FE;\n",
              "      border: none;\n",
              "      border-radius: 50%;\n",
              "      cursor: pointer;\n",
              "      display: none;\n",
              "      fill: #1967D2;\n",
              "      height: 32px;\n",
              "      padding: 0 0 0 0;\n",
              "      width: 32px;\n",
              "    }\n",
              "\n",
              "    .colab-df-convert:hover {\n",
              "      background-color: #E2EBFA;\n",
              "      box-shadow: 0px 1px 2px rgba(60, 64, 67, 0.3), 0px 1px 3px 1px rgba(60, 64, 67, 0.15);\n",
              "      fill: #174EA6;\n",
              "    }\n",
              "\n",
              "    [theme=dark] .colab-df-convert {\n",
              "      background-color: #3B4455;\n",
              "      fill: #D2E3FC;\n",
              "    }\n",
              "\n",
              "    [theme=dark] .colab-df-convert:hover {\n",
              "      background-color: #434B5C;\n",
              "      box-shadow: 0px 1px 3px 1px rgba(0, 0, 0, 0.15);\n",
              "      filter: drop-shadow(0px 1px 2px rgba(0, 0, 0, 0.3));\n",
              "      fill: #FFFFFF;\n",
              "    }\n",
              "  </style>\n",
              "\n",
              "      <script>\n",
              "        const buttonEl =\n",
              "          document.querySelector('#df-4a67d8d5-af37-4f59-a6c3-853597431913 button.colab-df-convert');\n",
              "        buttonEl.style.display =\n",
              "          google.colab.kernel.accessAllowed ? 'block' : 'none';\n",
              "\n",
              "        async function convertToInteractive(key) {\n",
              "          const element = document.querySelector('#df-4a67d8d5-af37-4f59-a6c3-853597431913');\n",
              "          const dataTable =\n",
              "            await google.colab.kernel.invokeFunction('convertToInteractive',\n",
              "                                                     [key], {});\n",
              "          if (!dataTable) return;\n",
              "\n",
              "          const docLinkHtml = 'Like what you see? Visit the ' +\n",
              "            '<a target=\"_blank\" href=https://colab.research.google.com/notebooks/data_table.ipynb>data table notebook</a>'\n",
              "            + ' to learn more about interactive tables.';\n",
              "          element.innerHTML = '';\n",
              "          dataTable['output_type'] = 'display_data';\n",
              "          await google.colab.output.renderOutput(dataTable, element);\n",
              "          const docLink = document.createElement('div');\n",
              "          docLink.innerHTML = docLinkHtml;\n",
              "          element.appendChild(docLink);\n",
              "        }\n",
              "      </script>\n",
              "    </div>\n",
              "  </div>\n",
              "  "
            ]
          },
          "metadata": {},
          "execution_count": 26
        }
      ]
    },
    {
      "cell_type": "code",
      "source": [
        "df4.to_csv('ELECGEN_2007_2019_Electricity_Gen_by_country_Gwh.csv', index=False)"
      ],
      "metadata": {
        "id": "6NeBLgWTcRtc"
      },
      "execution_count": null,
      "outputs": []
    },
    {
      "cell_type": "code",
      "source": [
        "df4.to_json('ELECGEN_2007_2019_Electricity_Gen_by_country_Gwh.json')"
      ],
      "metadata": {
        "id": "nRfl6W-mQ-H1"
      },
      "execution_count": null,
      "outputs": []
    }
  ]
}